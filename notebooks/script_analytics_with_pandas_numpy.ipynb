{
 "cells": [
  {
   "cell_type": "code",
   "execution_count": 20,
   "metadata": {},
   "outputs": [],
   "source": [
    "import pandas as pd\n",
    "import numpy as n"
   ]
  },
  {
   "cell_type": "code",
   "execution_count": 21,
   "metadata": {},
   "outputs": [],
   "source": [
    "# Cargar los CSVs procesados\n",
    "df_customer = pd.read_csv('../data/customer_clean.csv')\n",
    "df_store = pd.read_csv('../data/store_clean.csv')\n",
    "df_rental = pd.read_csv('../data/rental_clean.csv')\n",
    "df_inventory = pd.read_csv('../data/inventory_clean.csv')\n",
    "df_film = pd.read_csv('../data/film_clean.csv')"
   ]
  },
  {
   "cell_type": "code",
   "execution_count": 22,
   "metadata": {},
   "outputs": [],
   "source": [
    "# ---- Análisis ----\n",
    "# Total de alquileres por tienda\n",
    "rental_inventory = df_rental.merge(df_inventory, on=\"inventory_id\", how=\"inner\")\n",
    "rental_store = rental_inventory.merge(df_store, on=\"store_id\", how=\"inner\")\n",
    "rentals_by_store = rental_store.groupby(\"store_id\").size().reset_index(name=\"total_rentals\")\n",
    "rental_film = rental_inventory.merge(df_film, on=\"film_id\", how=\"inner\")"
   ]
  },
  {
   "cell_type": "code",
   "execution_count": 25,
   "metadata": {},
   "outputs": [
    {
     "name": "stdout",
     "output_type": "stream",
     "text": [
      "\n",
      "Total de alquileres por género:\n",
      "   rating  total_rentals_by_genre\n",
      "0       G                    2740\n",
      "1   NC-17                    3249\n",
      "2      PG                    3177\n",
      "3   PG-13                    3612\n",
      "4       R                    3152\n"
     ]
    }
   ],
   "source": [
    "\n",
    "# ---- Total de alquileres por género ----\n",
    "# Usar 'rating' como una aproximación de género\n",
    "if 'rating' in df_film.columns:\n",
    "    rental_film = rental_inventory.merge(df_film, on=\"film_id\", how=\"inner\")\n",
    "    rentals_by_genre = rental_film.groupby(\"rating\").size().reset_index(name=\"total_rentals_by_genre\")\n",
    "    print(\"\\nTotal de alquileres por género:\")\n",
    "    print(rentals_by_genre)\n",
    "else:\n",
    "    print(\"\\nLa columna 'rating' no está disponible en df_film. No se puede calcular el total de alquileres por género.\")\n"
   ]
  },
  {
   "cell_type": "code",
   "execution_count": 26,
   "metadata": {},
   "outputs": [
    {
     "name": "stdout",
     "output_type": "stream",
     "text": [
      "\n",
      "Total de alquileres por año de lanzamiento:\n",
      "   release_year  total_rentals_by_year\n",
      "0          2006                  15930\n"
     ]
    }
   ],
   "source": [
    "# ---- Total de alquileres por año de lanzamiento ----\n",
    "if 'release_year' in df_film.columns:\n",
    "    rentals_by_year = rental_film.groupby(\"release_year\").size().reset_index(name=\"total_rentals_by_year\")\n",
    "    print(\"\\nTotal de alquileres por año de lanzamiento:\")\n",
    "    print(rentals_by_year)\n",
    "else:\n",
    "    print(\"\\nLa columna 'release_year' no está disponible en df_film. No se puede calcular el total de alquileres por año de lanzamiento.\") \n"
   ]
  },
  {
   "cell_type": "code",
   "execution_count": 30,
   "metadata": {},
   "outputs": [
    {
     "name": "stdout",
     "output_type": "stream",
     "text": [
      "\n",
      "Duración promedio de los alquileres: 4.53 días\n",
      "\n",
      "Películas más alquiladas:\n",
      "     film_id                   title  total_rentals_by_film\n",
      "302      320   FLAMINGOS CONNECTICUT                     92\n",
      "96       103      BUCKET BROTHERHOOD                     34\n",
      "705      738        ROCKETEER MOTHER                     33\n",
      "361      382          GRIT CLOCKWORK                     32\n",
      "312      331          FORWARD TEMPLE                     32\n",
      "733      767           SCALAWAG DUCK                     32\n",
      "29        31           APACHE DIVINE                     31\n",
      "719      753         RUSH GOODFELLAS                     31\n",
      "702      735            ROBBERS JOON                     31\n",
      "930      973               WIFE TURN                     31\n"
     ]
    }
   ],
   "source": [
    "# ---- Duración promedio de los alquileres ----\n",
    "df_rental['rental_date'] = pd.to_datetime(df_rental['rental_date'])\n",
    "df_rental['return_date'] = pd.to_datetime(df_rental['return_date'])\n",
    "df_rental['rental_duration_days'] = (df_rental['return_date'] - df_rental['rental_date']).dt.days\n",
    "avg_duration = df_rental['rental_duration_days'].mean()\n",
    "print(f\"\\nDuración promedio de los alquileres: {avg_duration:.2f} días\")\n",
    "\n",
    "# ---- Películas más alquiladas ----\n",
    "if 'title' in df_film.columns:\n",
    "    most_rented_films = rental_film.groupby([\"film_id\", \"title\"]).size().reset_index(name=\"total_rentals_by_film\").sort_values(\"total_rentals_by_film\", ascending=False).head(10)\n",
    "    print(\"\\nPelículas más alquiladas:\")\n",
    "    print(most_rented_films)\n",
    "else:\n",
    "    print(\"\\nLa columna 'title' no está disponible en df_film. No se puede calcular las películas más alquiladas.\")"
   ]
  },
  {
   "cell_type": "code",
   "execution_count": 31,
   "metadata": {},
   "outputs": [
    {
     "name": "stdout",
     "output_type": "stream",
     "text": [
      "Correlación entre 'replacement_cost' y 'total_rentals_by_film': 0.10213236883598363\n"
     ]
    }
   ],
   "source": [
    "# Relación entre costo de reemplazo y popularidad\n",
    "if \"replacement_cost\" in df_film.columns:\n",
    "    # Join entre rental y film para obtener popularidad\n",
    "    rental_film = df_rental.merge(df_inventory, on=\"inventory_id\", how=\"inner\") \\\n",
    "                           .merge(df_film, on=\"film_id\", how=\"inner\")\n",
    "    \n",
    "    # Calcular total de alquileres por película y reemplazo\n",
    "    film_popularity = rental_film.groupby([\"film_id\", \"replacement_cost\"]).size().reset_index(name=\"total_rentals_by_film\")\n",
    "    \n",
    "    # Calcular correlación entre 'replacement_cost' y 'total_rentals_by_film'\n",
    "    correlation = film_popularity[\"replacement_cost\"].corr(film_popularity[\"total_rentals_by_film\"])\n",
    "    \n",
    "    print(f\"Correlación entre 'replacement_cost' y 'total_rentals_by_film': {correlation}\")\n",
    "else:\n",
    "    print(\"La columna 'replacement_cost' no está disponible en df_film.\")"
   ]
  }
 ],
 "metadata": {
  "kernelspec": {
   "display_name": "venv",
   "language": "python",
   "name": "python3"
  },
  "language_info": {
   "codemirror_mode": {
    "name": "ipython",
    "version": 3
   },
   "file_extension": ".py",
   "mimetype": "text/x-python",
   "name": "python",
   "nbconvert_exporter": "python",
   "pygments_lexer": "ipython3",
   "version": "3.12.4"
  }
 },
 "nbformat": 4,
 "nbformat_minor": 2
}
